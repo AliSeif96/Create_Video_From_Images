{
 "cells": [
  {
   "cell_type": "code",
   "execution_count": 1,
   "id": "e58791d0-791d-444d-b647-0ed0efac525a",
   "metadata": {},
   "outputs": [
    {
     "name": "stdout",
     "output_type": "stream",
     "text": [
      "[4200, 3800]\n",
      "outputed video to  G:/New Two jump first order transition (Not Scale)/Cpp/Change a algorithm seif/Plot/\n"
     ]
    }
   ],
   "source": [
    "import cv2\n",
    "import os\n",
    "name='Degree_Radian=1.543'\n",
    "path = 'G:/New Two jump first order transition (Not Scale)/Cpp/Change a algorithm seif/Plot/'+name+'/'\n",
    "out_path = 'G:/New Two jump first order transition (Not Scale)/Cpp/Change a algorithm seif/Plot/'\n",
    "out_video_name = name+'.mp4'\n",
    "out_video_full_path = out_path+out_video_name\n",
    "\n",
    "pre_imgs = os.listdir(path)\n",
    "img = []\n",
    "\n",
    "for i in range(len(pre_imgs)): \n",
    "    if i%10==0:\n",
    "        pre_imgs[i]=str(i/100)+'0.png'\n",
    "    else:\n",
    "        pre_imgs[i]=str(i/100)+'.png'\n",
    "for i in pre_imgs:\n",
    "    i = path+i\n",
    "    #print(h)\n",
    "    img.append(i)\n",
    "    #i=i+1\n",
    "\n",
    "#print(img)\n",
    "\n",
    "cv2_fourcc = cv2.VideoWriter_fourcc(*'.avi')\n",
    "\n",
    "frame = cv2.imread(img[0])\n",
    "size = list(frame.shape)\n",
    "del size[2]\n",
    "size.reverse()\n",
    "print(size)\n",
    "\n",
    "video = cv2.VideoWriter(out_video_full_path, cv2_fourcc, 8, size) #output video name, fourcc, fps, size\n",
    "\n",
    "for i in range(len(img)): \n",
    "    video.write(cv2.imread(img[i]))\n",
    "    #print('frame ', i+1, ' of ', len(img))\n",
    "\n",
    "video.release()\n",
    "print('outputed video to ', out_path)\n"
   ]
  },
  {
   "cell_type": "code",
   "execution_count": null,
   "id": "32e0366c-a368-46b7-bd49-c0c14375ecd0",
   "metadata": {},
   "outputs": [],
   "source": []
  }
 ],
 "metadata": {
  "kernelspec": {
   "display_name": "Python 3 (ipykernel)",
   "language": "python",
   "name": "python3"
  },
  "language_info": {
   "codemirror_mode": {
    "name": "ipython",
    "version": 3
   },
   "file_extension": ".py",
   "mimetype": "text/x-python",
   "name": "python",
   "nbconvert_exporter": "python",
   "pygments_lexer": "ipython3",
   "version": "3.10.8"
  }
 },
 "nbformat": 4,
 "nbformat_minor": 5
}
